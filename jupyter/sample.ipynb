{
 "cells": [
  {
   "cell_type": "code",
   "execution_count": 1,
   "id": "acbba7b6-7f09-47a2-891d-605301b7ca4f",
   "metadata": {},
   "outputs": [],
   "source": [
    "import os\n",
    "import sys\n",
    "import json"
   ]
  },
  {
   "cell_type": "code",
   "execution_count": 2,
   "id": "2acb80f1-fff1-4ca0-8240-2adb03344ee6",
   "metadata": {},
   "outputs": [],
   "source": [
    "uppath = lambda _path, n: os.sep.join(_path.split(os.sep)[:-n])\n",
    "BASE_DIR = os.path.dirname(os.path.abspath('__file__'))\n",
    "module_path = uppath(BASE_DIR, 1)  # root_path\n",
    "if module_path not in sys.path:\n",
    "    sys.path.append(module_path)"
   ]
  },
  {
   "cell_type": "code",
   "execution_count": 3,
   "id": "67750742-db36-464f-b828-5186eee10e70",
   "metadata": {},
   "outputs": [],
   "source": [
    "auth_file = os.path.join(module_path, '.config/api-key')\n",
    "with open(auth_file, 'r') as f:\n",
    "    apiKey = f.read()"
   ]
  },
  {
   "cell_type": "code",
   "execution_count": 5,
   "id": "51ef0aea-4b79-4414-a248-fe644cecbd78",
   "metadata": {},
   "outputs": [],
   "source": [
    "from notion_api.apis import NotionApi"
   ]
  },
  {
   "cell_type": "code",
   "execution_count": 6,
   "id": "d8b9f999-7ecd-45f3-bfa3-999e32108a46",
   "metadata": {},
   "outputs": [],
   "source": [
    "notion = NotionApi(apiKey)\n",
    "page_id = '0208c4a6f50d45a287ccbeed9e328df2'\n",
    "d = notion.convert_db_to_df(page_id)"
   ]
  },
  {
   "cell_type": "code",
   "execution_count": 7,
   "id": "b945c53b-89b9-4e74-83d0-48f2a535f579",
   "metadata": {},
   "outputs": [
    {
     "data": {
      "text/html": [
       "<div>\n",
       "<style scoped>\n",
       "    .dataframe tbody tr th:only-of-type {\n",
       "        vertical-align: middle;\n",
       "    }\n",
       "\n",
       "    .dataframe tbody tr th {\n",
       "        vertical-align: top;\n",
       "    }\n",
       "\n",
       "    .dataframe thead th {\n",
       "        text-align: right;\n",
       "    }\n",
       "</style>\n",
       "<table border=\"1\" class=\"dataframe\">\n",
       "  <thead>\n",
       "    <tr style=\"text-align: right;\">\n",
       "      <th></th>\n",
       "      <th>mail</th>\n",
       "      <th>chk</th>\n",
       "      <th>하나만</th>\n",
       "      <th>태그</th>\n",
       "      <th>컬럼</th>\n",
       "      <th>날짜</th>\n",
       "      <th>숫자</th>\n",
       "      <th>Property</th>\n",
       "      <th>이름</th>\n",
       "    </tr>\n",
       "  </thead>\n",
       "  <tbody>\n",
       "    <tr>\n",
       "      <th>페이지 내 이름 1</th>\n",
       "      <td>test@test.com</td>\n",
       "      <td>False</td>\n",
       "      <td>일번</td>\n",
       "      <td>태그 1</td>\n",
       "      <td>데이터 1\\ndata 1\\nDATA 1</td>\n",
       "      <td>2022-08-01</td>\n",
       "      <td>1209</td>\n",
       "      <td>In progress</td>\n",
       "      <td>페이지 내 이름 1</td>\n",
       "    </tr>\n",
       "    <tr>\n",
       "      <th>페이지 내 이름 3</th>\n",
       "      <td>abc@abc.com</td>\n",
       "      <td>False</td>\n",
       "      <td>None</td>\n",
       "      <td>None</td>\n",
       "      <td>None</td>\n",
       "      <td>None</td>\n",
       "      <td>8656</td>\n",
       "      <td>Done</td>\n",
       "      <td>페이지 내 이름 3</td>\n",
       "    </tr>\n",
       "    <tr>\n",
       "      <th>페이지 내 이름 2</th>\n",
       "      <td>123@123.com</td>\n",
       "      <td>True</td>\n",
       "      <td>이번</td>\n",
       "      <td>태그 2</td>\n",
       "      <td>데이터 2</td>\n",
       "      <td>2022-08-30</td>\n",
       "      <td>987</td>\n",
       "      <td>None</td>\n",
       "      <td>페이지 내 이름 2</td>\n",
       "    </tr>\n",
       "  </tbody>\n",
       "</table>\n",
       "</div>"
      ],
      "text/plain": [
       "                     mail    chk   하나만    태그                     컬럼  \\\n",
       "페이지 내 이름 1  test@test.com  False    일번  태그 1  데이터 1\\ndata 1\\nDATA 1   \n",
       "페이지 내 이름 3    abc@abc.com  False  None  None                   None   \n",
       "페이지 내 이름 2    123@123.com   True    이번  태그 2                  데이터 2   \n",
       "\n",
       "                    날짜    숫자     Property          이름  \n",
       "페이지 내 이름 1  2022-08-01  1209  In progress  페이지 내 이름 1  \n",
       "페이지 내 이름 3        None  8656         Done  페이지 내 이름 3  \n",
       "페이지 내 이름 2  2022-08-30   987         None  페이지 내 이름 2  "
      ]
     },
     "execution_count": 7,
     "metadata": {},
     "output_type": "execute_result"
    }
   ],
   "source": [
    "d[0]"
   ]
  },
  {
   "cell_type": "code",
   "execution_count": 8,
   "id": "ad56e16e-ca12-439c-ae20-cbe45a979a19",
   "metadata": {},
   "outputs": [
    {
     "data": {
      "text/html": [
       "<div>\n",
       "<style scoped>\n",
       "    .dataframe tbody tr th:only-of-type {\n",
       "        vertical-align: middle;\n",
       "    }\n",
       "\n",
       "    .dataframe tbody tr th {\n",
       "        vertical-align: top;\n",
       "    }\n",
       "\n",
       "    .dataframe thead th {\n",
       "        text-align: right;\n",
       "    }\n",
       "</style>\n",
       "<table border=\"1\" class=\"dataframe\">\n",
       "  <thead>\n",
       "    <tr style=\"text-align: right;\">\n",
       "      <th></th>\n",
       "      <th>Property</th>\n",
       "      <th>데이터</th>\n",
       "      <th>태그</th>\n",
       "      <th>이름</th>\n",
       "    </tr>\n",
       "  </thead>\n",
       "  <tbody>\n",
       "    <tr>\n",
       "      <th>인라인 이름 2</th>\n",
       "      <td>None</td>\n",
       "      <td>인라인 데이터 2</td>\n",
       "      <td>태그 2</td>\n",
       "      <td>인라인 이름 2</td>\n",
       "    </tr>\n",
       "    <tr>\n",
       "      <th>인라인 이름 1</th>\n",
       "      <td>박민영</td>\n",
       "      <td>인라인 데이터 1</td>\n",
       "      <td>태그 1</td>\n",
       "      <td>인라인 이름 1</td>\n",
       "    </tr>\n",
       "    <tr>\n",
       "      <th>NaN</th>\n",
       "      <td>None</td>\n",
       "      <td>None</td>\n",
       "      <td>None</td>\n",
       "      <td>None</td>\n",
       "    </tr>\n",
       "  </tbody>\n",
       "</table>\n",
       "</div>"
      ],
      "text/plain": [
       "         Property        데이터    태그        이름\n",
       "인라인 이름 2     None  인라인 데이터 2  태그 2  인라인 이름 2\n",
       "인라인 이름 1      박민영  인라인 데이터 1  태그 1  인라인 이름 1\n",
       "NaN          None       None  None      None"
      ]
     },
     "execution_count": 8,
     "metadata": {},
     "output_type": "execute_result"
    }
   ],
   "source": [
    "d[1]"
   ]
  }
 ],
 "metadata": {
  "kernelspec": {
   "display_name": "Python 3 (ipykernel)",
   "language": "python",
   "name": "python3"
  },
  "language_info": {
   "codemirror_mode": {
    "name": "ipython",
    "version": 3
   },
   "file_extension": ".py",
   "mimetype": "text/x-python",
   "name": "python",
   "nbconvert_exporter": "python",
   "pygments_lexer": "ipython3",
   "version": "3.8.6"
  }
 },
 "nbformat": 4,
 "nbformat_minor": 5
}